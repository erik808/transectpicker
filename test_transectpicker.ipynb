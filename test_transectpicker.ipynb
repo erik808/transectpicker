{
 "cells": [
  {
   "cell_type": "code",
   "execution_count": null,
   "id": "48f2fdfe",
   "metadata": {
    "collapsed": false,
    "jupyter": {
     "outputs_hidden": false
    }
   },
   "outputs": [],
   "source": [
    "%matplotlib widget\n",
    "import numpy as np\n",
    "from matplotlib import pyplot as plt\n",
    "from transectpicker import TransectPicker\n",
    "fig = plt.subplots(figsize=(6,6))\n",
    "A = np.random.rand(50,50)\n",
    "im = plt.pcolormesh(A)\n",
    "tpicker = TransectPicker(im, A)"
   ]
  },
  {
   "cell_type": "code",
   "execution_count": null,
   "id": "a5e1e9db",
   "metadata": {
    "collapsed": false,
    "jupyter": {
     "outputs_hidden": false
    }
   },
   "outputs": [],
   "source": [
    "print(tpicker.x_trans)\n",
    "print(tpicker.y_trans)"
   ]
  }
 ],
 "metadata": {
  "kernelspec": {
   "display_name": "Python 3",
   "language": "python",
   "name": "python3"
  },
  "language_info": {
   "codemirror_mode": {
    "name": "ipython",
    "version": 3
   },
   "file_extension": ".py",
   "mimetype": "text/x-python",
   "name": "python",
   "nbconvert_exporter": "python",
   "pygments_lexer": "ipython3",
   "version": "3.8.13"
  },
  "name": "Untitled.ipynb"
 },
 "nbformat": 4,
 "nbformat_minor": 5
}
